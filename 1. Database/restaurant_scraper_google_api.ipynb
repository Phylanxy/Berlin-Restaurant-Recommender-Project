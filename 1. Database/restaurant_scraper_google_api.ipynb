{
 "cells": [
  {
   "attachments": {},
   "cell_type": "markdown",
   "id": "9da62c64",
   "metadata": {},
   "source": [
    "# Drop into Berlin - Google Places API Scraping Notebook"
   ]
  },
  {
   "cell_type": "code",
   "execution_count": null,
   "id": "95b3a802",
   "metadata": {},
   "outputs": [],
   "source": [
    "#Installation of neccessary libraries\n",
    "!pip install googlemaps"
   ]
  },
  {
   "cell_type": "code",
   "execution_count": null,
   "id": "aea9de57",
   "metadata": {},
   "outputs": [],
   "source": [
    "#Installation of neccessary libraries\n",
    "!pip install pgeocode"
   ]
  },
  {
   "cell_type": "code",
   "execution_count": null,
   "id": "a1eb155a",
   "metadata": {},
   "outputs": [],
   "source": [
    "!pip install gomaps"
   ]
  },
  {
   "cell_type": "code",
   "execution_count": 8,
   "id": "634d2e1e",
   "metadata": {},
   "outputs": [],
   "source": [
    "#Import neccessary libraries\n",
    "import os\n",
    "import requests\n",
    "import googlemaps\n",
    "import json\n",
    "from gomaps import maps_search\n",
    "import time\n",
    "import googlemaps\n",
    "import pandas as pd\n",
    "import pgeocode\n",
    "import requests\n",
    "import json"
   ]
  },
  {
   "attachments": {},
   "cell_type": "markdown",
   "id": "e300b739",
   "metadata": {},
   "source": [
    "## Scraping Methodology 1: Specify soly solo coordinates of Berlin city"
   ]
  },
  {
   "cell_type": "code",
   "execution_count": 9,
   "id": "3acd153c",
   "metadata": {},
   "outputs": [],
   "source": [
    "#Function to transform miles to meter\n",
    "def miles_to_meters(miles):\n",
    "    try:\n",
    "        return miles * 1_609.344\n",
    "    except:\n",
    "        return 0"
   ]
  },
  {
   "cell_type": "code",
   "execution_count": 10,
   "id": "facbaddf",
   "metadata": {},
   "outputs": [],
   "source": [
    "#Setup of API Client\n",
    "api_key = open(\"personal_path/key.txt\").read()\n",
    "map_client = googlemaps.Client(api_key)\n",
    "\n",
    "#Define coordinates of Berlin as location,from which restaurant data should be extracted from API\n",
    "(lat, lng) = \"52.520008\",\"13.404954\"\n",
    "\n",
    "#Specify type of data, that should be extracted from API. In the first place, the Drop into Berlin should be focused on restaurant recommendations only\n",
    "search_string = 'restaurant'\n",
    "\n",
    "#Define the distance (i.e. radius) from the coordinates, around which data should be extracted from\n",
    "distance = miles_to_meters(1)\n",
    "\n",
    "#Setup of API request and response\n",
    "response = map_client.places_nearby(location=(lat, lng), keyword=search_string, radius=distance)"
   ]
  },
  {
   "cell_type": "code",
   "execution_count": 255,
   "id": "fa4332a0",
   "metadata": {},
   "outputs": [],
   "source": [
    "#Looping over API respone and inserting results into dataframe\n",
    "#Next_page_toke = \"Click on the next page button\"\n",
    "business_list = []\n",
    "business_list.extend(response.get('results'))\n",
    "next_page_token = response.get('next_page_token')\n",
    "\n",
    "#While there is still the option next_page_token present, another request is being sent to the Google Places API and then appended to the \"business_list\"-list\n",
    "while next_page_token:\n",
    "    time.sleep(2)\n",
    "    response = map_client.places_nearby(location=(lat, lng), keyword=search_string, radius=distance, page_token=next_page_token)   \n",
    "    business_list.extend(response.get('results'))\n",
    "    next_page_token = response.get('next_page_token')\n",
    "\n",
    "#Transform the list into a pandas dataframe\n",
    "df = pd.DataFrame(business_list)\n",
    "\n",
    "#Insert new column \"url\" (of the restaurant) to the dataframe\n",
    "df['url'] = 'https://www.google.com/maps/place/?q=place_id:' + df['place_id']"
   ]
  },
  {
   "cell_type": "code",
   "execution_count": null,
   "id": "ba02b90a",
   "metadata": {},
   "outputs": [],
   "source": [
    "#Sample response\n",
    "response[\"results\"][3]"
   ]
  },
  {
   "cell_type": "code",
   "execution_count": null,
   "id": "f0fae4a9",
   "metadata": {},
   "outputs": [],
   "source": [
    "#Store extracted data into xls file\n",
    "df.to_excel('{0}_batch1.xlsx'.format(search_string), index=False)\n",
    "\n",
    "#Problem: The main limitation of the previous methodology of scraping restaurant data in Berlin was that only 500-600 restaurants were being extracted out of approximately 15,000 restaurants using the main coordinates of Berlin ((lat, lng) = \"52.520008\",\"13.404954\"). \n",
    "#Solution: To overcome this limitation, a solution was implemented in which separate API requests were sent for each zip code in Berlin. The aim of this approach was to extract restaurant data that is spread across the entire city of Berlin."
   ]
  },
  {
   "attachments": {},
   "cell_type": "markdown",
   "id": "c67262f9",
   "metadata": {},
   "source": [
    "## Scraping Methodology 2: Specify multiple coordinates - based on zip codes - of Berlin city"
   ]
  },
  {
   "cell_type": "code",
   "execution_count": null,
   "id": "f25ad7c8",
   "metadata": {},
   "outputs": [],
   "source": [
    "#Sourcing zip codes of each district of berlin to evenly scrape data across berlin areas\n",
    "zip_codes = pd.read_excel('berlin_zip_codes.xlsx', sheet_name='Tabelle1')"
   ]
  },
  {
   "cell_type": "code",
   "execution_count": 70,
   "id": "3889ddf9",
   "metadata": {},
   "outputs": [],
   "source": [
    "#Extract longitude out of zip_codes file\n",
    "zip_codes[\"longitude\"] = [nomi.query_postal_code(x)[\"longitude\"] for x in zip_codes[\"zip_code\"]]"
   ]
  },
  {
   "cell_type": "code",
   "execution_count": 69,
   "id": "2ee96212",
   "metadata": {},
   "outputs": [],
   "source": [
    "#Extract latitude out of zip_codes variable\n",
    "zip_codes[\"latitude\"] = [nomi.query_postal_code(x)[\"latitude\"] for x in zip_codes[\"zip_code\"]]"
   ]
  },
  {
   "cell_type": "code",
   "execution_count": 101,
   "id": "a7cad7f6",
   "metadata": {},
   "outputs": [
    {
     "data": {
      "text/html": [
       "<div>\n",
       "<style scoped>\n",
       "    .dataframe tbody tr th:only-of-type {\n",
       "        vertical-align: middle;\n",
       "    }\n",
       "\n",
       "    .dataframe tbody tr th {\n",
       "        vertical-align: top;\n",
       "    }\n",
       "\n",
       "    .dataframe thead th {\n",
       "        text-align: right;\n",
       "    }\n",
       "</style>\n",
       "<table border=\"1\" class=\"dataframe\">\n",
       "  <thead>\n",
       "    <tr style=\"text-align: right;\">\n",
       "      <th></th>\n",
       "      <th>zip_code</th>\n",
       "      <th>city</th>\n",
       "      <th>longitude</th>\n",
       "      <th>latitude</th>\n",
       "    </tr>\n",
       "  </thead>\n",
       "  <tbody>\n",
       "    <tr>\n",
       "      <th>0</th>\n",
       "      <td>10115</td>\n",
       "      <td>Berlin</td>\n",
       "      <td>13.3846</td>\n",
       "      <td>52.5323</td>\n",
       "    </tr>\n",
       "    <tr>\n",
       "      <th>1</th>\n",
       "      <td>10117</td>\n",
       "      <td>Berlin</td>\n",
       "      <td>13.3872</td>\n",
       "      <td>52.5170</td>\n",
       "    </tr>\n",
       "    <tr>\n",
       "      <th>2</th>\n",
       "      <td>10119</td>\n",
       "      <td>Berlin</td>\n",
       "      <td>13.4053</td>\n",
       "      <td>52.5305</td>\n",
       "    </tr>\n",
       "    <tr>\n",
       "      <th>3</th>\n",
       "      <td>10178</td>\n",
       "      <td>Berlin</td>\n",
       "      <td>13.4096</td>\n",
       "      <td>52.5213</td>\n",
       "    </tr>\n",
       "    <tr>\n",
       "      <th>4</th>\n",
       "      <td>10179</td>\n",
       "      <td>Berlin</td>\n",
       "      <td>13.4164</td>\n",
       "      <td>52.5122</td>\n",
       "    </tr>\n",
       "    <tr>\n",
       "      <th>...</th>\n",
       "      <td>...</td>\n",
       "      <td>...</td>\n",
       "      <td>...</td>\n",
       "      <td>...</td>\n",
       "    </tr>\n",
       "    <tr>\n",
       "      <th>185</th>\n",
       "      <td>14169</td>\n",
       "      <td>Berlin</td>\n",
       "      <td>13.2573</td>\n",
       "      <td>52.4496</td>\n",
       "    </tr>\n",
       "    <tr>\n",
       "      <th>186</th>\n",
       "      <td>14193</td>\n",
       "      <td>Berlin</td>\n",
       "      <td>13.2365</td>\n",
       "      <td>52.4831</td>\n",
       "    </tr>\n",
       "    <tr>\n",
       "      <th>187</th>\n",
       "      <td>14195</td>\n",
       "      <td>Berlin</td>\n",
       "      <td>13.2829</td>\n",
       "      <td>52.4589</td>\n",
       "    </tr>\n",
       "    <tr>\n",
       "      <th>188</th>\n",
       "      <td>14197</td>\n",
       "      <td>Berlin</td>\n",
       "      <td>13.3118</td>\n",
       "      <td>52.4734</td>\n",
       "    </tr>\n",
       "    <tr>\n",
       "      <th>189</th>\n",
       "      <td>14199</td>\n",
       "      <td>Berlin</td>\n",
       "      <td>13.2951</td>\n",
       "      <td>52.4777</td>\n",
       "    </tr>\n",
       "  </tbody>\n",
       "</table>\n",
       "<p>190 rows × 4 columns</p>\n",
       "</div>"
      ],
      "text/plain": [
       "     zip_code    city  longitude  latitude\n",
       "0       10115  Berlin    13.3846   52.5323\n",
       "1       10117  Berlin    13.3872   52.5170\n",
       "2       10119  Berlin    13.4053   52.5305\n",
       "3       10178  Berlin    13.4096   52.5213\n",
       "4       10179  Berlin    13.4164   52.5122\n",
       "..        ...     ...        ...       ...\n",
       "185     14169  Berlin    13.2573   52.4496\n",
       "186     14193  Berlin    13.2365   52.4831\n",
       "187     14195  Berlin    13.2829   52.4589\n",
       "188     14197  Berlin    13.3118   52.4734\n",
       "189     14199  Berlin    13.2951   52.4777\n",
       "\n",
       "[190 rows x 4 columns]"
      ]
     },
     "execution_count": 101,
     "metadata": {},
     "output_type": "execute_result"
    }
   ],
   "source": [
    "#Preview final zip codes of Berlin\n",
    "zip_codes.head()"
   ]
  },
  {
   "cell_type": "code",
   "execution_count": 94,
   "id": "8b689478",
   "metadata": {},
   "outputs": [],
   "source": [
    "#Store longitude and latitude data of each zip code in list\n",
    "locations = []\n",
    "for i in range(len(zip_codes)):\n",
    "    locations.append([zip_codes.iloc[i,2], (zip_codes.iloc[i,3])])"
   ]
  },
  {
   "cell_type": "code",
   "execution_count": 190,
   "id": "fae06dea",
   "metadata": {},
   "outputs": [],
   "source": [
    "#Iterate again over different zip codes of berlin and for each zip code conduct API data request\n",
    "business_list = []\n",
    "for location in locations:\n",
    "    lng = location[0]\n",
    "    lat = location[1]\n",
    "    response = map_client.places_nearby(location=(lat, lng), keyword=search_string, radius=distance)\n",
    "    business_list.extend(response.get('results'))\n",
    "    next_page_token = response.get('next_page_token')\n",
    "    while next_page_token:\n",
    "        time.sleep(2)\n",
    "        response = map_client.places_nearby(location=(lat, lng), keyword=search_string, radius=distance, page_token=next_page_token)   \n",
    "        business_list.extend(response.get('results'))\n",
    "        next_page_token = response.get('next_page_token')\n",
    "        \n",
    "#Transform the list into a pandas dataframe\n",
    "df = pd.DataFrame(business_list)\n",
    "\n",
    "#Insert new column \"url\" (of the restaurant) to the dataframe\n",
    "df['url'] = 'https://www.google.com/maps/place/?q=place_id:' + df['place_id']"
   ]
  },
  {
   "cell_type": "code",
   "execution_count": 192,
   "id": "9625291c",
   "metadata": {},
   "outputs": [],
   "source": [
    "#Store extracted data into xls file\n",
    "df.to_excel('{0}_batch2.xlsx'.format(search_string), index=False)"
   ]
  },
  {
   "cell_type": "code",
   "execution_count": 198,
   "id": "794d5e18",
   "metadata": {},
   "outputs": [],
   "source": [
    "#Readin first batch xls file\n",
    "batch1 = pd.read_excel(\"Data/restaurant_batch1.xlsx\")"
   ]
  },
  {
   "cell_type": "code",
   "execution_count": 199,
   "id": "3259092d",
   "metadata": {},
   "outputs": [],
   "source": [
    "#Readin second batch xls file\n",
    "batch2 = pd.read_excel(\"Data/restaurant_batch2.xlsx\")"
   ]
  },
  {
   "cell_type": "code",
   "execution_count": 200,
   "id": "a912591f",
   "metadata": {},
   "outputs": [],
   "source": [
    "#Concatenate batches\n",
    "total = pd.concat([batch1, batch2], axis=0, ignore_index = True)"
   ]
  },
  {
   "cell_type": "code",
   "execution_count": 210,
   "id": "7c1c8788",
   "metadata": {},
   "outputs": [],
   "source": [
    "#Drop duplicates of the concatenated dataframe\n",
    "total.drop_duplicates(subset=[\"place_id\"], inplace = True)"
   ]
  },
  {
   "cell_type": "code",
   "execution_count": null,
   "id": "c4a240fc",
   "metadata": {},
   "outputs": [],
   "source": [
    "#Note: There exit two level of details per API request\n",
    "# First level being extracted via coordinates entails high level information per location (=total)\n",
    "# Second level being extracted via place_ids entails detailed information per location (=total_details)\n",
    "\n",
    "#Final high level restaurant dataframe w/o further deep dive details (e.g. reviews etc.) (=Level 1)\n",
    "total.head()"
   ]
  },
  {
   "cell_type": "code",
   "execution_count": 286,
   "id": "7ea9adc0",
   "metadata": {},
   "outputs": [],
   "source": [
    "#Level 2 Data Scraping\n",
    "#Extract all place_ids and put it in iterable list\n",
    "place_ids = list(total[\"place_id\"].unique())"
   ]
  },
  {
   "cell_type": "code",
   "execution_count": null,
   "id": "24ee27e4",
   "metadata": {},
   "outputs": [],
   "source": [
    "#Code to extract for all place_ids more detailed information of the google maps api\n",
    "\n",
    "#Definition of API key \n",
    "api_key = open(\"personal_path/key.txt\").read()\n",
    "\n",
    "#Definition of list of place IDs for the places I want to retrieve details for\n",
    "place_ids\n",
    "\n",
    "# Initialize an empty list to store the place details\n",
    "place_details_list = []\n",
    "\n",
    "# Loop through the list of place IDs and retrieve the details for each place\n",
    "for place_id in place_ids:\n",
    "    # Define the API endpoint for retrieving place details\n",
    "    url = f'https://maps.googleapis.com/maps/api/place/details/json?place_id={place_id}&key={api_key}'\n",
    "\n",
    "    # Send a GET request to the API endpoint and retrieve the response\n",
    "    response = requests.get(url)\n",
    "\n",
    "    # Parse the JSON response and convert it to a dictionary\n",
    "    result = json.loads(response.text)\n",
    "\n",
    "    try:\n",
    "        place_details_list.append(result[\"result\"])\n",
    "    \n",
    "    except:\n",
    "        pass"
   ]
  },
  {
   "cell_type": "code",
   "execution_count": 311,
   "id": "5772d37d",
   "metadata": {},
   "outputs": [],
   "source": [
    "#Convert the details into a dataframe\n",
    "total_details = pd.DataFrame(data = place_details_list)"
   ]
  },
  {
   "cell_type": "code",
   "execution_count": 291,
   "id": "180a0461",
   "metadata": {},
   "outputs": [],
   "source": [
    "#Save the created dataframe into a file\n",
    "total_details.to_excel('{0}_place_id_details.xlsx'.format(search_string), index=False)"
   ]
  },
  {
   "cell_type": "code",
   "execution_count": 313,
   "id": "c11426b9",
   "metadata": {},
   "outputs": [],
   "source": [
    "#Merge the high level (=level 1) as well as detailed information (=level 2) for each place_id into one single dataframe\n",
    "restaurants_final = pd.concat([total.set_index(\"place_id\"), total_details.set_index(\"place_id\")], axis = 1, join=\"inner\")"
   ]
  },
  {
   "cell_type": "code",
   "execution_count": 315,
   "id": "2407cc29",
   "metadata": {},
   "outputs": [],
   "source": [
    "#Save the concatenated dataframe into a xlsx file\n",
    "restaurants_final.to_excel('database', index=False)"
   ]
  }
 ],
 "metadata": {
  "kernelspec": {
   "display_name": "Python 3 (ipykernel)",
   "language": "python",
   "name": "python3"
  },
  "language_info": {
   "codemirror_mode": {
    "name": "ipython",
    "version": 3
   },
   "file_extension": ".py",
   "mimetype": "text/x-python",
   "name": "python",
   "nbconvert_exporter": "python",
   "pygments_lexer": "ipython3",
   "version": "3.9.13"
  }
 },
 "nbformat": 4,
 "nbformat_minor": 5
}
